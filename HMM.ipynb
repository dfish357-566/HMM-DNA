{
  "nbformat": 4,
  "nbformat_minor": 0,
  "metadata": {
    "colab": {
      "name": "HMM",
      "provenance": [],
      "authorship_tag": "ABX9TyNDj1QtwRx6/GLA0kwwqZD3",
      "include_colab_link": true
    },
    "kernelspec": {
      "name": "python3",
      "display_name": "Python 3"
    }
  },
  "cells": [
    {
      "cell_type": "markdown",
      "metadata": {
        "id": "view-in-github",
        "colab_type": "text"
      },
      "source": [
        "<a href=\"https://colab.research.google.com/github/dfish357-566/HMM-DNA/blob/main/HMM.ipynb\" target=\"_parent\"><img src=\"https://colab.research.google.com/assets/colab-badge.svg\" alt=\"Open In Colab\"/></a>"
      ]
    },
    {
      "cell_type": "code",
      "metadata": {
        "id": "RbzY6MS_5T3w"
      },
      "source": [
        "%matplotlib inline"
      ],
      "execution_count": 2,
      "outputs": []
    },
    {
      "cell_type": "code",
      "metadata": {
        "colab": {
          "base_uri": "https://localhost:8080/"
        },
        "id": "uZYEby7h5UOU",
        "outputId": "dc5ad1a3-6997-42c5-a458-7d9c2b508795"
      },
      "source": [
        "#https://hmmlearn.readthedocs.io/en/latest/tutorial.html\n",
        "!pip install --upgrade hmmlearn"
      ],
      "execution_count": 3,
      "outputs": [
        {
          "output_type": "stream",
          "text": [
            "Collecting hmmlearn\n",
            "\u001b[?25l  Downloading https://files.pythonhosted.org/packages/c6/0c/58328490a296089cb9d2f19a479a8051b36707817fecc18519a90d7c5c41/hmmlearn-0.2.5-cp36-cp36m-manylinux1_x86_64.whl (361kB)\n",
            "\r\u001b[K     |█                               | 10kB 13.2MB/s eta 0:00:01\r\u001b[K     |█▉                              | 20kB 17.4MB/s eta 0:00:01\r\u001b[K     |██▊                             | 30kB 15.0MB/s eta 0:00:01\r\u001b[K     |███▋                            | 40kB 11.1MB/s eta 0:00:01\r\u001b[K     |████▌                           | 51kB 9.2MB/s eta 0:00:01\r\u001b[K     |█████▍                          | 61kB 10.2MB/s eta 0:00:01\r\u001b[K     |██████▍                         | 71kB 9.0MB/s eta 0:00:01\r\u001b[K     |███████▎                        | 81kB 9.6MB/s eta 0:00:01\r\u001b[K     |████████▏                       | 92kB 9.0MB/s eta 0:00:01\r\u001b[K     |█████████                       | 102kB 8.8MB/s eta 0:00:01\r\u001b[K     |██████████                      | 112kB 8.8MB/s eta 0:00:01\r\u001b[K     |██████████▉                     | 122kB 8.8MB/s eta 0:00:01\r\u001b[K     |███████████▊                    | 133kB 8.8MB/s eta 0:00:01\r\u001b[K     |████████████▊                   | 143kB 8.8MB/s eta 0:00:01\r\u001b[K     |█████████████▋                  | 153kB 8.8MB/s eta 0:00:01\r\u001b[K     |██████████████▌                 | 163kB 8.8MB/s eta 0:00:01\r\u001b[K     |███████████████▍                | 174kB 8.8MB/s eta 0:00:01\r\u001b[K     |████████████████▎               | 184kB 8.8MB/s eta 0:00:01\r\u001b[K     |█████████████████▏              | 194kB 8.8MB/s eta 0:00:01\r\u001b[K     |██████████████████▏             | 204kB 8.8MB/s eta 0:00:01\r\u001b[K     |███████████████████             | 215kB 8.8MB/s eta 0:00:01\r\u001b[K     |████████████████████            | 225kB 8.8MB/s eta 0:00:01\r\u001b[K     |████████████████████▉           | 235kB 8.8MB/s eta 0:00:01\r\u001b[K     |█████████████████████▊          | 245kB 8.8MB/s eta 0:00:01\r\u001b[K     |██████████████████████▋         | 256kB 8.8MB/s eta 0:00:01\r\u001b[K     |███████████████████████▌        | 266kB 8.8MB/s eta 0:00:01\r\u001b[K     |████████████████████████▌       | 276kB 8.8MB/s eta 0:00:01\r\u001b[K     |█████████████████████████▍      | 286kB 8.8MB/s eta 0:00:01\r\u001b[K     |██████████████████████████▎     | 296kB 8.8MB/s eta 0:00:01\r\u001b[K     |███████████████████████████▏    | 307kB 8.8MB/s eta 0:00:01\r\u001b[K     |████████████████████████████    | 317kB 8.8MB/s eta 0:00:01\r\u001b[K     |█████████████████████████████   | 327kB 8.8MB/s eta 0:00:01\r\u001b[K     |█████████████████████████████▉  | 337kB 8.8MB/s eta 0:00:01\r\u001b[K     |██████████████████████████████▉ | 348kB 8.8MB/s eta 0:00:01\r\u001b[K     |███████████████████████████████▊| 358kB 8.8MB/s eta 0:00:01\r\u001b[K     |████████████████████████████████| 368kB 8.8MB/s \n",
            "\u001b[?25hRequirement already satisfied, skipping upgrade: scipy>=0.19 in /usr/local/lib/python3.6/dist-packages (from hmmlearn) (1.4.1)\n",
            "Requirement already satisfied, skipping upgrade: scikit-learn>=0.16 in /usr/local/lib/python3.6/dist-packages (from hmmlearn) (0.22.2.post1)\n",
            "Requirement already satisfied, skipping upgrade: numpy>=1.10 in /usr/local/lib/python3.6/dist-packages (from hmmlearn) (1.19.5)\n",
            "Requirement already satisfied, skipping upgrade: joblib>=0.11 in /usr/local/lib/python3.6/dist-packages (from scikit-learn>=0.16->hmmlearn) (1.0.0)\n",
            "Installing collected packages: hmmlearn\n",
            "Successfully installed hmmlearn-0.2.5\n"
          ],
          "name": "stdout"
        }
      ]
    },
    {
      "cell_type": "code",
      "metadata": {
        "id": "Uoaj622o5WSZ"
      },
      "source": [
        "from __future__ import division\n",
        "import matplotlib.pyplot as plt\n",
        "import numpy as np\n",
        "from hmmlearn import hmm"
      ],
      "execution_count": 4,
      "outputs": []
    },
    {
      "cell_type": "code",
      "metadata": {
        "colab": {
          "base_uri": "https://localhost:8080/"
        },
        "id": "WP7qzHQg5ZIo",
        "outputId": "834a1654-997e-4045-bd18-5111506b56ec"
      },
      "source": [
        "states = [\"High\", \"Low\"]\n",
        "observations = [\"A\", \"C\", \"G\", \"T\"]\n",
        "\n",
        "startProb = np.array([0.5, 0.5])\n",
        "\n",
        "transitionProb = np.array([\n",
        "  [0.5, 0.5],\n",
        "  [0.4, 0.6]\n",
        "])\n",
        "\n",
        "\n",
        "emissionProb = np.array([\n",
        "  [0.2, 0.3, 0.3, 0.2],\n",
        "  [0.3, 0.2, 0.2, 0.3]\n",
        "])\n",
        "\n",
        "model = hmm.MultinomialHMM(n_components = len(states), init_params = \"\")\n",
        "\n",
        "model.startprob_ = startProb\n",
        "model.transmat_ = transitionProb\n",
        "model.emissionprob_ = emissionProb\n",
        "\n",
        "\n",
        "# predict a sequence of hidden states based on visible states\n",
        "# s = GGCACTGAA\n",
        "sequence = np.array([[2, 2, 1, 0, 1, 3, 2, 0, 0]])\n",
        "\n",
        "\n",
        "# transpose sequence matrix\n",
        "model = model.fit(sequence.T)\n",
        "logprob, path = model.decode(sequence.T, algorithm = \"viterbi\")\n",
        "print(\"Sequence:\", [observations[i] for i in sequence[0]])\n",
        "print(\"Most probable path:\", [states[i] for i in path])"
      ],
      "execution_count": 11,
      "outputs": [
        {
          "output_type": "stream",
          "text": [
            "Sequence: ['G', 'G', 'C', 'A', 'C', 'T', 'G', 'A', 'A']\n",
            "Most probable path: ['High', 'High', 'Low', 'Low', 'Low', 'Low', 'Low', 'Low', 'Low']\n"
          ],
          "name": "stdout"
        }
      ]
    }
  ]
}